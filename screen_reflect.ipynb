{
 "cells": [
  {
   "cell_type": "code",
   "execution_count": 83,
   "metadata": {},
   "outputs": [],
   "source": [
    "from cuesdk import CueSdk\n",
    "import time\n",
    "from PIL import ImageGrab\n",
    "from PIL import Image\n",
    "import pandas as pd\n",
    "import numpy as np"
   ]
  },
  {
   "cell_type": "code",
   "execution_count": 159,
   "metadata": {},
   "outputs": [],
   "source": [
    "sdk = CueSdk()\n",
    "sdk.connect()\n",
    "\n",
    "devices = sdk.get_devices()\n",
    "device_list = dict()\n",
    "mouse_on_right = True\n",
    "\n",
    "for i in range(sdk.get_device_count()):\n",
    "    device_type = str(devices[i].type)\n",
    "    if 'Mouse' in device_type:\n",
    "        device_list.update({'mouse': i})\n",
    "    if 'Keyboard' in device_type:\n",
    "        device_list.update({'keyboard': i})\n",
    "\n",
    "def get_available_leds():\n",
    "    leds = dict()\n",
    "    device_count = sdk.get_device_count()\n",
    "    for device_index in range(device_count):\n",
    "        led_positions = sdk.get_led_positions_by_device_index(device_index)\n",
    "        leds.update({device_index:led_positions})\n",
    "    return leds"
   ]
  },
  {
   "cell_type": "code",
   "execution_count": 154,
   "metadata": {},
   "outputs": [],
   "source": [
    "# get all led positions, add flag for device type\n",
    "df = pd.DataFrame([],columns=['x','y','device_type'])\n",
    "for d in device_list:\n",
    "    \n",
    "    df_temp = pd.DataFrame.from_dict(leds[device_list[d]],orient='index',columns=['x','y'])\n",
    "    df_temp['device_type'] = d\n",
    "    df = df.append(df_temp)\n",
    "\n",
    "# if set up contains a mouse, adjust led coords to be left or right of keyboard\n",
    "if 'mouse' in df['device_type'].values:    \n",
    "    keyboard_length = df[df['device_type']=='keyboard']['x'].max()\n",
    "    mouse_length = df[df['device_type']=='mouse']['x'].max()\n",
    "    \n",
    "    if mouse_on_right:\n",
    "        df['modify_x'] = [keyboard_length if d=='mouse' else 0 for d in df['device_type']]\n",
    "        df['x'] = df['x']+df['modify_x']\n",
    "    else:\n",
    "        df['modify_x'] = [mouse_length if d=='keyboard' else 0 for d in df['device_type']]\n",
    "        df['x'] = df['x']+df['modify_x']\n",
    "    \n",
    "    df = df.drop(['modify_x'],axis=1)\n",
    "    \n",
    "# sdk function expects coordinates in tuples    \n",
    "df['xy'] = list(zip(df['x'],df['y']))\n",
    "# target size to reshape on screen image to, based on coords of keyboard/mouse\n",
    "image_size = (int(df['x'].max()+1),int(df['y'].max()+1))"
   ]
  },
  {
   "cell_type": "code",
   "execution_count": 155,
   "metadata": {},
   "outputs": [
    {
     "name": "stdout",
     "output_type": "stream",
     "text": [
      "Press ctrl+c to stop\n",
      "Stopped\n"
     ]
    }
   ],
   "source": [
    "# main\n",
    "\n",
    "sdk.request_control()\n",
    "print(\"Press ctrl+c to stop\")\n",
    "try: \n",
    "    while True:\n",
    "        # take a screenshot\n",
    "        image = ImageGrab.grab()\n",
    "        # downscale\n",
    "        image = image.resize((16,8),resample=Image.BILINEAR)\n",
    "        # upscale\n",
    "        image = image.resize(image_size,resample=Image.NEAREST)\n",
    "\n",
    "        df['rgb'] = df['xy'].apply(image.getpixel)\n",
    "        \n",
    "        for d in device_list:\n",
    "            rgb = df[df['device_type']==d].to_dict()['rgb']\n",
    "            sdk.set_led_colors_buffer_by_device_index(device_list[d],rgb)\n",
    "            \n",
    "        sdk.set_led_colors_flush_buffer()\n",
    "        time.sleep(1/30)\n",
    "except KeyboardInterrupt:\n",
    "    print(\"Stopped\")\n",
    "    sdk.release_control()"
   ]
  },
  {
   "cell_type": "markdown",
   "metadata": {},
   "source": [
    "# Explaination"
   ]
  },
  {
   "cell_type": "code",
   "execution_count": 165,
   "metadata": {},
   "outputs": [],
   "source": [
    "import seaborn as sns\n",
    "import matplotlib.pyplot as plt\n",
    "import numpy as np\n",
    "import pandas as pd\n",
    "%matplotlib inline"
   ]
  },
  {
   "cell_type": "code",
   "execution_count": 166,
   "metadata": {},
   "outputs": [
    {
     "data": {
      "image/png": "[encoded data removed]",
      "text/plain": [
       "<Figure size 432x288 with 1 Axes>"
      ]
     },
     "metadata": {
      "needs_background": "light"
     },
     "output_type": "display_data"
    }
   ],
   "source": [
    "df_keys = df[df['device_type']=='keyboard']\n",
    "sns.scatterplot(x=df_keys['x'],y=-1*df_keys['y']);"
   ]
  },
  {
   "cell_type": "markdown",
   "metadata": {},
   "source": [
    "Led positions are shown in graph, but mutiplied y coords by -1 to show as usually viewed. (origin of the coordinate system is on lower left of keyboard)\n",
    "You can see the space bar at approx (150,-135), ESC button at approx (10,-40)"
   ]
  },
  {
   "cell_type": "code",
   "execution_count": null,
   "metadata": {},
   "outputs": [],
   "source": []
  }
 ],
 "metadata": {
  "kernelspec": {
   "display_name": "Python 3",
   "language": "python",
   "name": "python3"
  },
  "language_info": {
   "codemirror_mode": {
    "name": "ipython",
    "version": 3
   },
   "file_extension": ".py",
   "mimetype": "text/x-python",
   "name": "python",
   "nbconvert_exporter": "python",
   "pygments_lexer": "ipython3",
   "version": "3.8.5"
  }
 },
 "nbformat": 4,
 "nbformat_minor": 4
}
